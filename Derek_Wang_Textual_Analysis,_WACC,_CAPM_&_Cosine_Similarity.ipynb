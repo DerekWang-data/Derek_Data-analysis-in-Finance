{
  "nbformat": 4,
  "nbformat_minor": 0,
  "metadata": {
    "colab": {
      "provenance": []
    },
    "kernelspec": {
      "name": "python3",
      "display_name": "Python 3"
    },
    "language_info": {
      "name": "python"
    }
  },
  "cells": [
    {
      "cell_type": "markdown",
      "source": [
        "# Textual Analysis: Text Pre-Processing and Cosine Similarity"
      ],
      "metadata": {
        "id": "NUyklaKMP4zd"
      }
    },
    {
      "cell_type": "markdown",
      "source": [
        "## 1. Get business descriptions from Yahoo Finance website"
      ],
      "metadata": {
        "id": "9hhpxYhIP7Pk"
      }
    },
    {
      "cell_type": "markdown",
      "source": [
        "## Intel Business Description\n"
      ],
      "metadata": {
        "id": "2KgfvmriQAyU"
      }
    },
    {
      "cell_type": "code",
      "source": [
        "intc_text = 'Intel Corporation designs, develops, manufactures, markets, and sells computing and related products worldwide. It operates through Client Computing Group, Data Center and AI, Network and Edge, Mobileye, Accelerated Computing Systems and Graphics, Intel Foundry Services, and Other segments. The company offers platform products, such as central processing units and chipsets, and system-on-chip and multichip packages; and accelerators, boards and systems, connectivity products, and memory and storage products. It also provides high-performance compute solutions for targeted verticals and embedded applications for retail, industrial, and healthcare markets; and solutions for assisted and autonomous driving comprising compute platforms, computer vision and machine learning-based sensing, mapping and localization, driving policy, and active sensors. In addition, the company offers workload-optimized platforms and related products for cloud service providers, enterprise and government, and communications service providers. It serves original equipment manufacturers, original design manufacturers, cloud service providers, and other equipment manufacturers. The company was incorporated in 1968 and is headquartered in Santa Clara, California.'\n",
        "intc_text"
      ],
      "metadata": {
        "colab": {
          "base_uri": "https://localhost:8080/",
          "height": 139
        },
        "id": "i36lB00dRY7M",
        "outputId": "43e92b02-d2ba-43ec-946e-a0a10db1b08c"
      },
      "execution_count": null,
      "outputs": [
        {
          "output_type": "execute_result",
          "data": {
            "text/plain": [
              "'Intel Corporation designs, develops, manufactures, markets, and sells computing and related products worldwide. It operates through Client Computing Group, Data Center and AI, Network and Edge, Mobileye, Accelerated Computing Systems and Graphics, Intel Foundry Services, and Other segments. The company offers platform products, such as central processing units and chipsets, and system-on-chip and multichip packages; and accelerators, boards and systems, connectivity products, and memory and storage products. It also provides high-performance compute solutions for targeted verticals and embedded applications for retail, industrial, and healthcare markets; and solutions for assisted and autonomous driving comprising compute platforms, computer vision and machine learning-based sensing, mapping and localization, driving policy, and active sensors. In addition, the company offers workload-optimized platforms and related products for cloud service providers, enterprise and government, and communications service providers. It serves original equipment manufacturers, original design manufacturers, cloud service providers, and other equipment manufacturers. The company was incorporated in 1968 and is headquartered in Santa Clara, California.'"
            ],
            "application/vnd.google.colaboratory.intrinsic+json": {
              "type": "string"
            }
          },
          "metadata": {},
          "execution_count": 1
        }
      ]
    },
    {
      "cell_type": "markdown",
      "source": [
        "## NVIDIA Business Description\n",
        "\n"
      ],
      "metadata": {
        "id": "0zOwyFJGQ5St"
      }
    },
    {
      "cell_type": "code",
      "source": [
        "nvidia_text = \"NVIDIA Corporation provides graphics, and compute and networking solutions in the United States, Taiwan, China, and internationally. The company's Graphics segment offers GeForce GPUs for gaming and PCs, the GeForce NOW game streaming service and related infrastructure, and solutions for gaming platforms; Quadro/NVIDIA RTX GPUs for enterprise workstation graphics; vGPU software for cloud-based visual and virtual computing; automotive platforms for infotainment systems; and Omniverse software for building 3D designs and virtual worlds. Its Compute & Networking segment provides Data Center platforms and systems for AI, HPC, and accelerated computing; Mellanox networking and interconnect solutions; automotive AI Cockpit, autonomous driving development agreements, and autonomous vehicle solutions; cryptocurrency mining processors; Jetson for robotics and other embedded platforms; and NVIDIA AI Enterprise and other software. The company's products are used in gaming, professional visualization, datacenter, and automotive markets. NVIDIA Corporation sells its products to original equipment manufacturers, original device manufacturers, system builders, add-in board manufacturers, retailers/distributors, independent software vendors, Internet and cloud service providers, automotive manufacturers and tier-1 automotive suppliers, mapping companies, start-ups, and other ecosystem participants. It has a strategic collaboration with Kroger Co. NVIDIA Corporation was incorporated in 1993 and is headquartered in Santa Clara, California.\"\n",
        "nvidia_text"
      ],
      "metadata": {
        "colab": {
          "base_uri": "https://localhost:8080/",
          "height": 174
        },
        "id": "Dg6dosyoRhdc",
        "outputId": "472131dc-72c7-4b58-c981-f83ccea9a8f9"
      },
      "execution_count": null,
      "outputs": [
        {
          "output_type": "execute_result",
          "data": {
            "text/plain": [
              "\"NVIDIA Corporation provides graphics, and compute and networking solutions in the United States, Taiwan, China, and internationally. The company's Graphics segment offers GeForce GPUs for gaming and PCs, the GeForce NOW game streaming service and related infrastructure, and solutions for gaming platforms; Quadro/NVIDIA RTX GPUs for enterprise workstation graphics; vGPU software for cloud-based visual and virtual computing; automotive platforms for infotainment systems; and Omniverse software for building 3D designs and virtual worlds. Its Compute & Networking segment provides Data Center platforms and systems for AI, HPC, and accelerated computing; Mellanox networking and interconnect solutions; automotive AI Cockpit, autonomous driving development agreements, and autonomous vehicle solutions; cryptocurrency mining processors; Jetson for robotics and other embedded platforms; and NVIDIA AI Enterprise and other software. The company's products are used in gaming, professional visualization, datacenter, and automotive markets. NVIDIA Corporation sells its products to original equipment manufacturers, original device manufacturers, system builders, add-in board manufacturers, retailers/distributors, independent software vendors, Internet and cloud service providers, automotive manufacturers and tier-1 automotive suppliers, mapping companies, start-ups, and other ecosystem participants. It has a strategic collaboration with Kroger Co. NVIDIA Corporation was incorporated in 1993 and is headquartered in Santa Clara, California.\""
            ],
            "application/vnd.google.colaboratory.intrinsic+json": {
              "type": "string"
            }
          },
          "metadata": {},
          "execution_count": 3
        }
      ]
    },
    {
      "cell_type": "markdown",
      "source": [
        "## 2. Provide some data pre-processing: decapitalize the text, remove punctuation and other unwanted characters."
      ],
      "metadata": {
        "id": "PI4PX8M7RzAO"
      }
    },
    {
      "cell_type": "markdown",
      "source": [
        "---\n",
        "re.compile() → compiles a regular expression pattern into an object.\n",
        "\n",
        "'<.*?>' → pattern that matches HTML tags:\n",
        "\n",
        "<br>\n",
        "\n",
        "< and > → start and end of a tag\n",
        "\n",
        "<br>\n",
        "\n",
        ".*? → matches any characters in between, as few as possible\n",
        "\n",
        "<br>\n",
        "\n",
        "This creates a rule cleanr to identify HTML tags.\n",
        "\n",
        "<br>\n",
        "\n",
        "re.sub(pattern, replacement, string) → replaces text based on the pattern\n",
        "\n",
        "<br>\n",
        "\n",
        "pattern → what to look for (cleanr)\n",
        "\n",
        "<br>\n",
        "\n",
        "replacement → replace with this (here '' means remove)\n",
        "\n",
        "<br>\n",
        "\n",
        "string → the text to search in (raw_html)\n",
        "\n",
        "<br>\n",
        "\n",
        "This line removes all HTML tags from raw_html, resulting in cleantext.\n",
        "\n",
        "---"
      ],
      "metadata": {
        "id": "qpKEouPcw-Q0"
      }
    },
    {
      "cell_type": "code",
      "source": [
        "#STEP 1: Remove html tags\n",
        "#Define the function to remove html tags\n",
        "import re\n",
        "\n",
        "def cleanhtml(raw_html):\n",
        "  cleanr = re.compile('<.*?>')\n",
        "  cleantext = re.sub(cleanr, '', raw_html)\n",
        "  return cleantext"
      ],
      "metadata": {
        "id": "uaeUA5uyR1sd"
      },
      "execution_count": null,
      "outputs": []
    },
    {
      "cell_type": "code",
      "source": [
        "cleantext_intc= cleanhtml(intc_text)\n",
        "cleantext_intc"
      ],
      "metadata": {
        "colab": {
          "base_uri": "https://localhost:8080/",
          "height": 122
        },
        "id": "oe8_6pOLSJa0",
        "outputId": "76bb40dd-5263-48f4-802e-ec96dbf3d962"
      },
      "execution_count": null,
      "outputs": [
        {
          "output_type": "execute_result",
          "data": {
            "text/plain": [
              "'Intel Corporation designs, develops, manufactures, markets, and sells computing and related products worldwide. It operates through Client Computing Group, Data Center and AI, Network and Edge, Mobileye, Accelerated Computing Systems and Graphics, Intel Foundry Services, and Other segments. The company offers platform products, such as central processing units and chipsets, and system-on-chip and multichip packages; and accelerators, boards and systems, connectivity products, and memory and storage products. It also provides high-performance compute solutions for targeted verticals and embedded applications for retail, industrial, and healthcare markets; and solutions for assisted and autonomous driving comprising compute platforms, computer vision and machine learning-based sensing, mapping and localization, driving policy, and active sensors. In addition, the company offers workload-optimized platforms and related products for cloud service providers, enterprise and government, and communications service providers. It serves original equipment manufacturers, original design manufacturers, cloud service providers, and other equipment manufacturers. The company was incorporated in 1968 and is headquartered in Santa Clara, California.'"
            ],
            "application/vnd.google.colaboratory.intrinsic+json": {
              "type": "string"
            }
          },
          "metadata": {},
          "execution_count": 5
        }
      ]
    },
    {
      "cell_type": "code",
      "source": [
        "cleantext_nvidia= cleanhtml(nvidia_text)\n",
        "cleantext_nvidia"
      ],
      "metadata": {
        "colab": {
          "base_uri": "https://localhost:8080/",
          "height": 122
        },
        "id": "tRHPTUAhSO7t",
        "outputId": "8e87252c-71bf-4232-dd57-9e3b253f7f1d"
      },
      "execution_count": null,
      "outputs": [
        {
          "output_type": "execute_result",
          "data": {
            "text/plain": [
              "\"NVIDIA Corporation provides graphics, and compute and networking solutions in the United States, Taiwan, China, and internationally. The company's Graphics segment offers GeForce GPUs for gaming and PCs, the GeForce NOW game streaming service and related infrastructure, and solutions for gaming platforms; Quadro/NVIDIA RTX GPUs for enterprise workstation graphics; vGPU software for cloud-based visual and virtual computing; automotive platforms for infotainment systems; and Omniverse software for building 3D designs and virtual worlds. Its Compute & Networking segment provides Data Center platforms and systems for AI, HPC, and accelerated computing; Mellanox networking and interconnect solutions; automotive AI Cockpit, autonomous driving development agreements, and autonomous vehicle solutions; cryptocurrency mining processors; Jetson for robotics and other embedded platforms; and NVIDIA AI Enterprise and other software. The company's products are used in gaming, professional visualization, datacenter, and automotive markets. NVIDIA Corporation sells its products to original equipment manufacturers, original device manufacturers, system builders, add-in board manufacturers, retailers/distributors, independent software vendors, Internet and cloud service providers, automotive manufacturers and tier-1 automotive suppliers, mapping companies, start-ups, and other ecosystem participants. It has a strategic collaboration with Kroger Co. NVIDIA Corporation was incorporated in 1993 and is headquartered in Santa Clara, California.\""
            ],
            "application/vnd.google.colaboratory.intrinsic+json": {
              "type": "string"
            }
          },
          "metadata": {},
          "execution_count": 6
        }
      ]
    },
    {
      "cell_type": "code",
      "source": [
        "#Remove punctuation\n",
        "# initializing punctuations string\n",
        "punc = '''!()-[]{};:'\"\\,<>./?@#$%^&*_~'''\n",
        "\n",
        "# Removing punctuations in string\n",
        "# Using loop + punctuation string\n",
        "for ele in cleantext_intc:\n",
        "    if ele in punc:\n",
        "        cleantext_intc = cleantext_intc.replace(ele, \"\")\n",
        "cleantext_intc"
      ],
      "metadata": {
        "colab": {
          "base_uri": "https://localhost:8080/",
          "height": 122
        },
        "id": "XN7g5s6bSO-v",
        "outputId": "dea6e48c-3a68-4b1b-9ef1-49732d79f424"
      },
      "execution_count": null,
      "outputs": [
        {
          "output_type": "execute_result",
          "data": {
            "text/plain": [
              "'Intel Corporation designs develops manufactures markets and sells computing and related products worldwide It operates through Client Computing Group Data Center and AI Network and Edge Mobileye Accelerated Computing Systems and Graphics Intel Foundry Services and Other segments The company offers platform products such as central processing units and chipsets and systemonchip and multichip packages and accelerators boards and systems connectivity products and memory and storage products It also provides highperformance compute solutions for targeted verticals and embedded applications for retail industrial and healthcare markets and solutions for assisted and autonomous driving comprising compute platforms computer vision and machine learningbased sensing mapping and localization driving policy and active sensors In addition the company offers workloadoptimized platforms and related products for cloud service providers enterprise and government and communications service providers It serves original equipment manufacturers original design manufacturers cloud service providers and other equipment manufacturers The company was incorporated in 1968 and is headquartered in Santa Clara California'"
            ],
            "application/vnd.google.colaboratory.intrinsic+json": {
              "type": "string"
            }
          },
          "metadata": {},
          "execution_count": 7
        }
      ]
    },
    {
      "cell_type": "code",
      "source": [
        "# Removing punctuations in string\n",
        "# Using loop + punctuation string\n",
        "for ele in cleantext_nvidia:\n",
        "    if ele in punc:\n",
        "        cleantext_nvidia = cleantext_nvidia.replace(ele, \"\")\n",
        "cleantext_nvidia"
      ],
      "metadata": {
        "colab": {
          "base_uri": "https://localhost:8080/",
          "height": 174
        },
        "id": "TiBfu7TMSkp-",
        "outputId": "a5c5dbd5-4525-4e1f-d656-b18dbe1d0afb"
      },
      "execution_count": null,
      "outputs": [
        {
          "output_type": "execute_result",
          "data": {
            "text/plain": [
              "'NVIDIA Corporation provides graphics and compute and networking solutions in the United States Taiwan China and internationally The companys Graphics segment offers GeForce GPUs for gaming and PCs the GeForce NOW game streaming service and related infrastructure and solutions for gaming platforms QuadroNVIDIA RTX GPUs for enterprise workstation graphics vGPU software for cloudbased visual and virtual computing automotive platforms for infotainment systems and Omniverse software for building 3D designs and virtual worlds Its Compute  Networking segment provides Data Center platforms and systems for AI HPC and accelerated computing Mellanox networking and interconnect solutions automotive AI Cockpit autonomous driving development agreements and autonomous vehicle solutions cryptocurrency mining processors Jetson for robotics and other embedded platforms and NVIDIA AI Enterprise and other software The companys products are used in gaming professional visualization datacenter and automotive markets NVIDIA Corporation sells its products to original equipment manufacturers original device manufacturers system builders addin board manufacturers retailersdistributors independent software vendors Internet and cloud service providers automotive manufacturers and tier1 automotive suppliers mapping companies startups and other ecosystem participants It has a strategic collaboration with Kroger Co NVIDIA Corporation was incorporated in 1993 and is headquartered in Santa Clara California'"
            ],
            "application/vnd.google.colaboratory.intrinsic+json": {
              "type": "string"
            }
          },
          "metadata": {},
          "execution_count": 8
        }
      ]
    },
    {
      "cell_type": "code",
      "source": [
        "#Step 3: Decapitalization\n",
        "cleantext_intc = cleantext_intc.lower()\n",
        "cleantext_intc"
      ],
      "metadata": {
        "colab": {
          "base_uri": "https://localhost:8080/",
          "height": 122
        },
        "id": "2flliCAeS2p1",
        "outputId": "4e75a19e-21a5-4e25-ac8d-af89ba48b821"
      },
      "execution_count": null,
      "outputs": [
        {
          "output_type": "execute_result",
          "data": {
            "text/plain": [
              "'intel corporation designs develops manufactures markets and sells computing and related products worldwide it operates through client computing group data center and ai network and edge mobileye accelerated computing systems and graphics intel foundry services and other segments the company offers platform products such as central processing units and chipsets and systemonchip and multichip packages and accelerators boards and systems connectivity products and memory and storage products it also provides highperformance compute solutions for targeted verticals and embedded applications for retail industrial and healthcare markets and solutions for assisted and autonomous driving comprising compute platforms computer vision and machine learningbased sensing mapping and localization driving policy and active sensors in addition the company offers workloadoptimized platforms and related products for cloud service providers enterprise and government and communications service providers it serves original equipment manufacturers original design manufacturers cloud service providers and other equipment manufacturers the company was incorporated in 1968 and is headquartered in santa clara california'"
            ],
            "application/vnd.google.colaboratory.intrinsic+json": {
              "type": "string"
            }
          },
          "metadata": {},
          "execution_count": 9
        }
      ]
    },
    {
      "cell_type": "code",
      "source": [
        "cleantext_nvidia = cleantext_nvidia.lower()\n",
        "cleantext_nvidia"
      ],
      "metadata": {
        "colab": {
          "base_uri": "https://localhost:8080/",
          "height": 122
        },
        "id": "XgNuZVHjS7q0",
        "outputId": "c1d87f6b-4bf0-4978-ad4b-c0c11aebbeb8"
      },
      "execution_count": null,
      "outputs": [
        {
          "output_type": "execute_result",
          "data": {
            "text/plain": [
              "'nvidia corporation provides graphics and compute and networking solutions in the united states taiwan china and internationally the companys graphics segment offers geforce gpus for gaming and pcs the geforce now game streaming service and related infrastructure and solutions for gaming platforms quadronvidia rtx gpus for enterprise workstation graphics vgpu software for cloudbased visual and virtual computing automotive platforms for infotainment systems and omniverse software for building 3d designs and virtual worlds its compute  networking segment provides data center platforms and systems for ai hpc and accelerated computing mellanox networking and interconnect solutions automotive ai cockpit autonomous driving development agreements and autonomous vehicle solutions cryptocurrency mining processors jetson for robotics and other embedded platforms and nvidia ai enterprise and other software the companys products are used in gaming professional visualization datacenter and automotive markets nvidia corporation sells its products to original equipment manufacturers original device manufacturers system builders addin board manufacturers retailersdistributors independent software vendors internet and cloud service providers automotive manufacturers and tier1 automotive suppliers mapping companies startups and other ecosystem participants it has a strategic collaboration with kroger co nvidia corporation was incorporated in 1993 and is headquartered in santa clara california'"
            ],
            "application/vnd.google.colaboratory.intrinsic+json": {
              "type": "string"
            }
          },
          "metadata": {},
          "execution_count": 10
        }
      ]
    },
    {
      "cell_type": "markdown",
      "source": [
        "## 3. Calculate cosine similarity between these two texts."
      ],
      "metadata": {
        "id": "OqfYiU_sTfbE"
      }
    },
    {
      "cell_type": "code",
      "source": [
        "import numpy as np\n",
        "import pandas as pd"
      ],
      "metadata": {
        "id": "t4QeX7ziTg1_"
      },
      "execution_count": null,
      "outputs": []
    },
    {
      "cell_type": "code",
      "source": [
        "#combine 2 texts to list\n",
        "text=[]\n",
        "all = [cleantext_intc,cleantext_nvidia]\n",
        "for i in all:\n",
        "  text.append(i)\n",
        "text"
      ],
      "metadata": {
        "colab": {
          "base_uri": "https://localhost:8080/"
        },
        "id": "Vd1calmDTpYU",
        "outputId": "a7795e9e-2fbd-4185-c850-eaf9bb6f1e8c"
      },
      "execution_count": null,
      "outputs": [
        {
          "output_type": "execute_result",
          "data": {
            "text/plain": [
              "['intel corporation designs develops manufactures markets and sells computing and related products worldwide it operates through client computing group data center and ai network and edge mobileye accelerated computing systems and graphics intel foundry services and other segments the company offers platform products such as central processing units and chipsets and systemonchip and multichip packages and accelerators boards and systems connectivity products and memory and storage products it also provides highperformance compute solutions for targeted verticals and embedded applications for retail industrial and healthcare markets and solutions for assisted and autonomous driving comprising compute platforms computer vision and machine learningbased sensing mapping and localization driving policy and active sensors in addition the company offers workloadoptimized platforms and related products for cloud service providers enterprise and government and communications service providers it serves original equipment manufacturers original design manufacturers cloud service providers and other equipment manufacturers the company was incorporated in 1968 and is headquartered in santa clara california',\n",
              " 'nvidia corporation provides graphics and compute and networking solutions in the united states taiwan china and internationally the companys graphics segment offers geforce gpus for gaming and pcs the geforce now game streaming service and related infrastructure and solutions for gaming platforms quadronvidia rtx gpus for enterprise workstation graphics vgpu software for cloudbased visual and virtual computing automotive platforms for infotainment systems and omniverse software for building 3d designs and virtual worlds its compute  networking segment provides data center platforms and systems for ai hpc and accelerated computing mellanox networking and interconnect solutions automotive ai cockpit autonomous driving development agreements and autonomous vehicle solutions cryptocurrency mining processors jetson for robotics and other embedded platforms and nvidia ai enterprise and other software the companys products are used in gaming professional visualization datacenter and automotive markets nvidia corporation sells its products to original equipment manufacturers original device manufacturers system builders addin board manufacturers retailersdistributors independent software vendors internet and cloud service providers automotive manufacturers and tier1 automotive suppliers mapping companies startups and other ecosystem participants it has a strategic collaboration with kroger co nvidia corporation was incorporated in 1993 and is headquartered in santa clara california']"
            ]
          },
          "metadata": {},
          "execution_count": 15
        }
      ]
    },
    {
      "cell_type": "code",
      "source": [
        "type(text)"
      ],
      "metadata": {
        "colab": {
          "base_uri": "https://localhost:8080/"
        },
        "id": "FYl57e64Tw0N",
        "outputId": "44cc8e19-9d23-4c24-c4d4-44a3be4cee1b"
      },
      "execution_count": null,
      "outputs": [
        {
          "output_type": "execute_result",
          "data": {
            "text/plain": [
              "list"
            ]
          },
          "metadata": {},
          "execution_count": 16
        }
      ]
    },
    {
      "cell_type": "code",
      "source": [
        "#Using sklearn vectorize the documents:\n",
        "from sklearn.feature_extraction.text import CountVectorizer\n",
        "\n",
        "# Create a matrix to represent the corpus\n",
        "X = CountVectorizer().fit_transform(text).toarray()\n",
        "\n",
        "print(X)"
      ],
      "metadata": {
        "colab": {
          "base_uri": "https://localhost:8080/"
        },
        "id": "uIa3E6cXTyq1",
        "outputId": "a7a327c4-9ab1-422b-8669-9e0c2efc35af"
      },
      "execution_count": null,
      "outputs": [
        {
          "output_type": "stream",
          "name": "stdout",
          "text": [
            "[[ 1  0  0  1  1  1  0  1  0  1  1 25  1  0  1  1  0  1  0  1  0  0  1  1\n",
            "   1  0  1  1  1  2  0  0  0  0  1  0  3  0  1  2  1  3  1  1  0  1  0  1\n",
            "   1  0  1  0  2  0  1  1  1  2  4  1  0  0  0  1  0  1  1  0  1  1  1  0\n",
            "   3  1  0  1  0  0  2  0  0  0  1  3  0  0  0  1  1  1  3  1  1  2  0  1\n",
            "   0  1  1  1  0  0  0  2  0  1  2  2  1  0  0  1  2  1  1  0  5  0  3  1\n",
            "   0  2  1  0  0  0  1  0  1  1  1  1  1  3  1  0  2  0  0  1  0  0  1  0\n",
            "   0  1  2  0  1  3  1  0  0  0  1  0  0  0  1  0  0  1  0  0  1  0  1  0\n",
            "   0  1]\n",
            " [ 0  1  1  1  0  0  1  0  1  3  0 21  0  1  0  0  5  2  1  0  1  1  1  1\n",
            "   0  1  0  1  0  1  1  1  1  1  0  1  0  2  0  2  0  2  0  3  1  1  1  0\n",
            "   1  1  0  1  1  1  0  1  2  1  8  0  1  3  2  0  2  3  0  1  1  0  0  1\n",
            "   4  1  1  0  1  1  0  1  1  1  1  1  2  1  1  0  0  0  4  0  1  1  1  0\n",
            "   1  0  0  0  3  1  4  1  1  0  2  3  0  1  1  0  4  0  0  1  2  1  1  2\n",
            "   1  1  0  1  1  1  1  2  0  1  0  0  0  2  0  4  4  1  1  0  1  1  0  1\n",
            "   1  0  2  1  0  4  0  1  1  1  0  1  1  1  0  1  2  0  1  1  1  1  0  1\n",
            "   1  0]]\n"
          ]
        }
      ]
    },
    {
      "cell_type": "code",
      "source": [
        "#Or we can use the following code, which removes stop words and shows the dataframe with the word frequencies\n",
        "# Scikit Learn\n",
        "from sklearn.feature_extraction.text import CountVectorizer\n",
        "import pandas as pd\n",
        "\n",
        "# Create the Document Term Matrix\n",
        "count_vectorizer = CountVectorizer(stop_words='english')\n",
        "count_vectorizer = CountVectorizer()\n",
        "sparse_matrix = count_vectorizer.fit_transform(text)\n",
        "\n",
        "# OPTIONAL: Convert Sparse Matrix to Pandas Dataframe if you want to see the word frequencies.\n",
        "doc_term_matrix = sparse_matrix.todense()\n",
        "df = pd.DataFrame(doc_term_matrix,\n",
        "                  columns=count_vectorizer.get_feature_names_out(),\n",
        "                  index=['cleantext_intc', 'cleantext_nvidia'])\n",
        "df"
      ],
      "metadata": {
        "colab": {
          "base_uri": "https://localhost:8080/",
          "height": 205
        },
        "id": "3PGRDg4cT1RO",
        "outputId": "4fc86902-f7f6-4b0a-9df0-aad2ab54cd78"
      },
      "execution_count": null,
      "outputs": [
        {
          "output_type": "execute_result",
          "data": {
            "text/plain": [
              "                  1968  1993  3d  accelerated  accelerators  active  addin  \\\n",
              "cleantext_intc       1     0   0            1             1       1      0   \n",
              "cleantext_nvidia     0     1   1            1             0       0      1   \n",
              "\n",
              "                  addition  agreements  ai  ...  virtual  vision  visual  \\\n",
              "cleantext_intc           1           0   1  ...        0       1       0   \n",
              "cleantext_nvidia         0           1   3  ...        2       0       1   \n",
              "\n",
              "                  visualization  was  with  workloadoptimized  workstation  \\\n",
              "cleantext_intc                0    1     0                  1            0   \n",
              "cleantext_nvidia              1    1     1                  0            1   \n",
              "\n",
              "                  worlds  worldwide  \n",
              "cleantext_intc         0          1  \n",
              "cleantext_nvidia       1          0  \n",
              "\n",
              "[2 rows x 170 columns]"
            ],
            "text/html": [
              "\n",
              "  <div id=\"df-7732e68b-204f-4f4e-85c2-cd7f9eb13795\">\n",
              "    <div class=\"colab-df-container\">\n",
              "      <div>\n",
              "<style scoped>\n",
              "    .dataframe tbody tr th:only-of-type {\n",
              "        vertical-align: middle;\n",
              "    }\n",
              "\n",
              "    .dataframe tbody tr th {\n",
              "        vertical-align: top;\n",
              "    }\n",
              "\n",
              "    .dataframe thead th {\n",
              "        text-align: right;\n",
              "    }\n",
              "</style>\n",
              "<table border=\"1\" class=\"dataframe\">\n",
              "  <thead>\n",
              "    <tr style=\"text-align: right;\">\n",
              "      <th></th>\n",
              "      <th>1968</th>\n",
              "      <th>1993</th>\n",
              "      <th>3d</th>\n",
              "      <th>accelerated</th>\n",
              "      <th>accelerators</th>\n",
              "      <th>active</th>\n",
              "      <th>addin</th>\n",
              "      <th>addition</th>\n",
              "      <th>agreements</th>\n",
              "      <th>ai</th>\n",
              "      <th>...</th>\n",
              "      <th>virtual</th>\n",
              "      <th>vision</th>\n",
              "      <th>visual</th>\n",
              "      <th>visualization</th>\n",
              "      <th>was</th>\n",
              "      <th>with</th>\n",
              "      <th>workloadoptimized</th>\n",
              "      <th>workstation</th>\n",
              "      <th>worlds</th>\n",
              "      <th>worldwide</th>\n",
              "    </tr>\n",
              "  </thead>\n",
              "  <tbody>\n",
              "    <tr>\n",
              "      <th>cleantext_intc</th>\n",
              "      <td>1</td>\n",
              "      <td>0</td>\n",
              "      <td>0</td>\n",
              "      <td>1</td>\n",
              "      <td>1</td>\n",
              "      <td>1</td>\n",
              "      <td>0</td>\n",
              "      <td>1</td>\n",
              "      <td>0</td>\n",
              "      <td>1</td>\n",
              "      <td>...</td>\n",
              "      <td>0</td>\n",
              "      <td>1</td>\n",
              "      <td>0</td>\n",
              "      <td>0</td>\n",
              "      <td>1</td>\n",
              "      <td>0</td>\n",
              "      <td>1</td>\n",
              "      <td>0</td>\n",
              "      <td>0</td>\n",
              "      <td>1</td>\n",
              "    </tr>\n",
              "    <tr>\n",
              "      <th>cleantext_nvidia</th>\n",
              "      <td>0</td>\n",
              "      <td>1</td>\n",
              "      <td>1</td>\n",
              "      <td>1</td>\n",
              "      <td>0</td>\n",
              "      <td>0</td>\n",
              "      <td>1</td>\n",
              "      <td>0</td>\n",
              "      <td>1</td>\n",
              "      <td>3</td>\n",
              "      <td>...</td>\n",
              "      <td>2</td>\n",
              "      <td>0</td>\n",
              "      <td>1</td>\n",
              "      <td>1</td>\n",
              "      <td>1</td>\n",
              "      <td>1</td>\n",
              "      <td>0</td>\n",
              "      <td>1</td>\n",
              "      <td>1</td>\n",
              "      <td>0</td>\n",
              "    </tr>\n",
              "  </tbody>\n",
              "</table>\n",
              "<p>2 rows × 170 columns</p>\n",
              "</div>\n",
              "      <button class=\"colab-df-convert\" onclick=\"convertToInteractive('df-7732e68b-204f-4f4e-85c2-cd7f9eb13795')\"\n",
              "              title=\"Convert this dataframe to an interactive table.\"\n",
              "              style=\"display:none;\">\n",
              "        \n",
              "  <svg xmlns=\"http://www.w3.org/2000/svg\" height=\"24px\"viewBox=\"0 0 24 24\"\n",
              "       width=\"24px\">\n",
              "    <path d=\"M0 0h24v24H0V0z\" fill=\"none\"/>\n",
              "    <path d=\"M18.56 5.44l.94 2.06.94-2.06 2.06-.94-2.06-.94-.94-2.06-.94 2.06-2.06.94zm-11 1L8.5 8.5l.94-2.06 2.06-.94-2.06-.94L8.5 2.5l-.94 2.06-2.06.94zm10 10l.94 2.06.94-2.06 2.06-.94-2.06-.94-.94-2.06-.94 2.06-2.06.94z\"/><path d=\"M17.41 7.96l-1.37-1.37c-.4-.4-.92-.59-1.43-.59-.52 0-1.04.2-1.43.59L10.3 9.45l-7.72 7.72c-.78.78-.78 2.05 0 2.83L4 21.41c.39.39.9.59 1.41.59.51 0 1.02-.2 1.41-.59l7.78-7.78 2.81-2.81c.8-.78.8-2.07 0-2.86zM5.41 20L4 18.59l7.72-7.72 1.47 1.35L5.41 20z\"/>\n",
              "  </svg>\n",
              "      </button>\n",
              "      \n",
              "  <style>\n",
              "    .colab-df-container {\n",
              "      display:flex;\n",
              "      flex-wrap:wrap;\n",
              "      gap: 12px;\n",
              "    }\n",
              "\n",
              "    .colab-df-convert {\n",
              "      background-color: #E8F0FE;\n",
              "      border: none;\n",
              "      border-radius: 50%;\n",
              "      cursor: pointer;\n",
              "      display: none;\n",
              "      fill: #1967D2;\n",
              "      height: 32px;\n",
              "      padding: 0 0 0 0;\n",
              "      width: 32px;\n",
              "    }\n",
              "\n",
              "    .colab-df-convert:hover {\n",
              "      background-color: #E2EBFA;\n",
              "      box-shadow: 0px 1px 2px rgba(60, 64, 67, 0.3), 0px 1px 3px 1px rgba(60, 64, 67, 0.15);\n",
              "      fill: #174EA6;\n",
              "    }\n",
              "\n",
              "    [theme=dark] .colab-df-convert {\n",
              "      background-color: #3B4455;\n",
              "      fill: #D2E3FC;\n",
              "    }\n",
              "\n",
              "    [theme=dark] .colab-df-convert:hover {\n",
              "      background-color: #434B5C;\n",
              "      box-shadow: 0px 1px 3px 1px rgba(0, 0, 0, 0.15);\n",
              "      filter: drop-shadow(0px 1px 2px rgba(0, 0, 0, 0.3));\n",
              "      fill: #FFFFFF;\n",
              "    }\n",
              "  </style>\n",
              "\n",
              "      <script>\n",
              "        const buttonEl =\n",
              "          document.querySelector('#df-7732e68b-204f-4f4e-85c2-cd7f9eb13795 button.colab-df-convert');\n",
              "        buttonEl.style.display =\n",
              "          google.colab.kernel.accessAllowed ? 'block' : 'none';\n",
              "\n",
              "        async function convertToInteractive(key) {\n",
              "          const element = document.querySelector('#df-7732e68b-204f-4f4e-85c2-cd7f9eb13795');\n",
              "          const dataTable =\n",
              "            await google.colab.kernel.invokeFunction('convertToInteractive',\n",
              "                                                     [key], {});\n",
              "          if (!dataTable) return;\n",
              "\n",
              "          const docLinkHtml = 'Like what you see? Visit the ' +\n",
              "            '<a target=\"_blank\" href=https://colab.research.google.com/notebooks/data_table.ipynb>data table notebook</a>'\n",
              "            + ' to learn more about interactive tables.';\n",
              "          element.innerHTML = '';\n",
              "          dataTable['output_type'] = 'display_data';\n",
              "          await google.colab.output.renderOutput(dataTable, element);\n",
              "          const docLink = document.createElement('div');\n",
              "          docLink.innerHTML = docLinkHtml;\n",
              "          element.appendChild(docLink);\n",
              "        }\n",
              "      </script>\n",
              "    </div>\n",
              "  </div>\n",
              "  "
            ]
          },
          "metadata": {},
          "execution_count": 18
        }
      ]
    },
    {
      "cell_type": "markdown",
      "source": [
        "## Creating a Readable Document-Term DataFrame\n",
        "\n",
        "- **doc_term_matrix**: The actual numbers showing how many times each word appears in each document.  \n",
        "- **columns=cv.get_feature_names_out()**: The column names are the words themselves, so you know which column corresponds to which word.  \n",
        "- **index=['cleantext_intc', 'cleantext_nvidia']**: The row names are the labels for the documents, so you know which row corresponds to Intel and which to Nvidia.  \n",
        "\n",
        "<br>\n",
        "\n",
        "This converts a plain numeric matrix into a readable table, showing word counts for each document.\n",
        "\n",
        "---"
      ],
      "metadata": {
        "id": "niiDntea1G31"
      }
    },
    {
      "cell_type": "code",
      "source": [
        "from sklearn.metrics.pairwise import cosine_similarity\n",
        "\n",
        "cosine_similarity(df, df)"
      ],
      "metadata": {
        "colab": {
          "base_uri": "https://localhost:8080/"
        },
        "id": "CT3IZdRKUCAt",
        "outputId": "b3c82f49-4bf0-4e36-c7a8-2a15d8aa9072"
      },
      "execution_count": null,
      "outputs": [
        {
          "output_type": "execute_result",
          "data": {
            "text/plain": [
              "array([[1.        , 0.81746918],\n",
              "       [0.81746918, 1.        ]])"
            ]
          },
          "metadata": {},
          "execution_count": 19
        }
      ]
    },
    {
      "cell_type": "markdown",
      "source": [
        "##4. Brief summary of the level of similarity. Are there significant relation between under/overvaluation (if present) and cosine similarity?"
      ],
      "metadata": {
        "id": "2xIgLQ5DUXgV"
      }
    },
    {
      "cell_type": "markdown",
      "source": [
        "Cosine similarity is a metric used to determine how similar documents are\n",
        "irrespective of their size. Mathematically, it measures the cosine of the angle between two vectors projected in a multi-dimensional space. The two vectors are arrays containing the word and word counts of two\n",
        "documents.\n",
        "\n",
        "<br>\n",
        "\n",
        "Since the cosine similarity value is 0.817, we can say that the two texts are similar. The description of Intel and NVIDIA are very similar, this is true because both of these companies belong to the same industry.\n",
        "\n",
        "<br>\n",
        "\n",
        "Yes, we can see a significant relation between overvaluation and cosine similarity. Both stocks were Over-valued and both stocks have higher similarity in the type of business they belong to.\n",
        "\n",
        "---"
      ],
      "metadata": {
        "id": "PgBzZ5HIUavQ"
      }
    },
    {
      "cell_type": "markdown",
      "source": [
        "## Part 2 Valuation: Calculation of WACC"
      ],
      "metadata": {
        "id": "OznvW56NUlXV"
      }
    },
    {
      "cell_type": "markdown",
      "source": [
        " 1. Calculate WACC based on financial information for 2022. To calculate cost of Debt I can look into 10-K Notes about Debt, or I can take the cost of debt from analysts reports/ fin websites. For Cost of Equity calculation I use the Equity Risk Premium and Risk free rate from Damodaran website and from Fred website"
      ],
      "metadata": {
        "id": "qC_4TUTfUmkW"
      }
    },
    {
      "cell_type": "markdown",
      "source": [
        " WACC = Cost of equity * (Equity/(Equity + Debt)) + Cost of debt * (Debt/(Equity + Debt))(1 - tax)"
      ],
      "metadata": {
        "id": "nKji_NkPkcfY"
      }
    },
    {
      "cell_type": "markdown",
      "source": [
        "## INTEL WACC Calculation"
      ],
      "metadata": {
        "id": "QfPIYxZDh6uk"
      }
    },
    {
      "cell_type": "markdown",
      "source": [
        "**Cost of Debt** from fin website:\n",
        "\n",
        "https://valueinvesting.io/INTC/valuation/wacc\n",
        "\n",
        "Cost of Debt for Intel = 5.5%\n",
        "\n",
        "<br>\n",
        "\n",
        "**Cost of Equity related data**\n",
        "\n",
        "From Damodaran website:\n",
        "\n",
        "https://pages.stern.nyu.edu/~adamodar/New_Home_Page/datafile/ctryprem.html\n",
        "\n",
        "United States:\n",
        "\n",
        "Equity Risk Premium = 5.94%\n",
        "\n",
        "Country Risk Premium = 0.00%\n",
        "\n",
        "Corporate Tax Rate = 25.00%\n",
        "\n",
        "Moody's rating = Aaa\n",
        "\n",
        "<br>\n",
        "\n",
        "**Market Yield on U.S. Treasury Securities at 20-Year Constant Maturity, Quoted on an Investment Basis from website**:\n",
        "\n",
        "https://fred.stlouisfed.org/series/DGS20\n",
        "\n",
        "Risk free rate = 4.14% as on 30. December. 2022\n",
        "\n",
        "<br>\n",
        "\n",
        "**Cost of Equity** = Risk free rate + Beta * Market Risk premium + Country Risk Premium\n",
        "\n",
        "<br>\n",
        "\n",
        "**Year-End Beta** from website:\n",
        "\n",
        "https://wrds-www.wharton.upenn.edu/\n",
        "\n",
        "WRDS CRSP -> Portfolio Assignments -> Year-end Beta Value\n",
        "\n",
        "Beta as on 30. December. 2022 = 0.79224\n",
        "\n",
        "Cost of Equity = 4.14% + 0.79224 * 5.94% + 0.00%\n",
        "\n",
        "Cost of Equity = 0.08845 = 8.845%\n",
        "\n",
        "<br>\n",
        "\n",
        "**Debt and Equity** from website:\n",
        "\n",
        "https://finance.yahoo.com/quote/INTC/balance-sheet?p=INTC\n",
        "\n",
        "Total Debt = 42,051,000 as on 30. December. 2022\n",
        "\n",
        "Total Equity = 101,423,000 as on 30. December. 2022\n",
        "\n",
        "<br>\n",
        "\n",
        "Now, **WACC** is:\n",
        "\n",
        "WACC = Cost of equity * (Equity/(Equity + Debt)) + Cost of debt * (Debt/(Equity + Debt))(1 - tax)\n",
        "\n",
        "Weight of Debt = 29.31%\n",
        "\n",
        "Weight of equity = 70.69%\n",
        "\n",
        "**WACC** = 8.845% * (101,423,000/(101,423,000 + 42,051,000)) + 5.5% * (42,051,000/(101,423,000 + 42,051,000))(1 - 25.00%)\n",
        "\n",
        "<br>\n",
        "\n",
        "**WACC of Intel = 7.46%**"
      ],
      "metadata": {
        "id": "BROD34tsh-h4"
      }
    },
    {
      "cell_type": "markdown",
      "source": [
        "---\n",
        "### How to Determine Shareholders' Expected Return (Cost of Equity) and Stock Fluctuations\n",
        "\n",
        "**1️⃣ Determining Cost of Equity**\n",
        "\n",
        "Shareholders' expected return is not random; it can be estimated using the **CAPM model**:\n",
        "\n",
        "<br>\n",
        "\n",
        "**Explanation:**  \n",
        "- Shareholders want a reasonable return **for taking on risk**.  \n",
        "- CAPM quantifies this expected return.  \n",
        "\n",
        "<br>\n",
        "---\n",
        "<br>\n",
        "\n",
        "**2️⃣ Stock Price Fluctuations vs. Expected Return**\n",
        "\n",
        "- Stocks fluctuate daily, but shareholders care about **long-term average return**, not daily movements.  \n",
        "- Short-term price drops do not mean shareholders will lose over the long run.  \n",
        "- As long as the long-term average return meets or exceeds the **Cost of Equity**, shareholders are satisfied.  \n",
        "\n",
        "<br>\n",
        "\n",
        "**Summary:**  \n",
        "- Shareholder expected return = long-term average return  \n",
        "- Daily stock fluctuations ≠ expected return  \n",
        "- CAPM provides a quantified target for reasonable shareholder expectations\n",
        "\n",
        "---\n"
      ],
      "metadata": {
        "id": "9_M5kRCW7iBp"
      }
    },
    {
      "cell_type": "markdown",
      "source": [
        "## NVIDIA WACC Calculation"
      ],
      "metadata": {
        "id": "6SaYVM9figU3"
      }
    },
    {
      "cell_type": "markdown",
      "source": [
        "**Cost of Debt** from fin website:\n",
        "\n",
        "https://valueinvesting.io/NVDA/valuation/wacc\n",
        "\n",
        "Cost of Debt for NVIDIA = 4.45%\n",
        "\n",
        "<br>\n",
        "\n",
        "**Cost of Equity related data**\n",
        "\n",
        "From Damodaran website:\n",
        "\n",
        "https://pages.stern.nyu.edu/~adamodar/New_Home_Page/datafile/ctryprem.html\n",
        "\n",
        "United States:\n",
        "\n",
        "Equity Risk Premium = 5.94%\n",
        "\n",
        "Country Risk Premium = 0.00%\n",
        "\n",
        "Corporate Tax Rate = 25.00%\n",
        "\n",
        "Moody's rating = Aaa\n",
        "\n",
        "<br>\n",
        "\n",
        "**Market Yield on U.S. Treasury Securities at 20-Year Constant Maturity, Quoted on an Investment Basis from website**:\n",
        "\n",
        "https://fred.stlouisfed.org/series/DGS20\n",
        "\n",
        "Risk free rate = 4.14% as on 30. December. 2022\n",
        "\n",
        "<br>\n",
        "\n",
        "**Cost of Equity** = Risk free rate + Beta * Market Risk premium + Country Risk Premium\n",
        "\n",
        "**Year-End Beta** from website:\n",
        "\n",
        "https://wrds-www.wharton.upenn.edu/\n",
        "\n",
        "WRDS CRSP -> Portfolio Assignments -> Year-end Beta Value\n",
        "\n",
        "Beta as on 30. December. 2022 = 1.82711\n",
        "\n",
        "Cost of Equity = 4.14% + 1.82711 * 5.94% + 0.00%\n",
        "\n",
        "Cost of Equity = 0.1499 = 14.99%\n",
        "\n",
        "<br>\n",
        "\n",
        "**Debt and Equity** from website:\n",
        "\n",
        "https://finance.yahoo.com/quote/NVDA/balance-sheet?p=NVDA\n",
        "\n",
        "Total Debt = 11,855,000 as on 30. December. 2022\n",
        "\n",
        "Total Equity = 22,101,000 as on 30. December.\n",
        "\n",
        "<br>\n",
        "\n",
        "Now, **WACC** is:\n",
        "\n",
        "WACC = Cost of equity * (Equity/(Equity + Debt)) + Cost of debt * (Debt/(Equity + Debt))(1 - tax)\n",
        "\n",
        "Weight of Debt = 34.91%\n",
        "\n",
        "Weight of equity = 65.09%\n",
        "\n",
        "**WACC** = 14.99% * 65.09% + 4.45% * 34.91% * (1 - 25.00%)\n",
        "\n",
        "<br>\n",
        "\n",
        "**WACC of NVIDIA = 10.92%**"
      ],
      "metadata": {
        "id": "0_CBaXhrwhx5"
      }
    },
    {
      "cell_type": "markdown",
      "source": [
        "---\n",
        "##WACC Overview\n",
        "\n",
        "WACC tells you: for every $1 the company uses from the stockers, how much it costs on average.\n",
        "\n",
        "<br>\n",
        "\n",
        "##  Significance of WACC\n",
        "\n",
        "### Investment Decision Standard\n",
        "- If the expected return of a project > WACC → the project adds value  \n",
        "- If < WACC → the project destroys value  \n",
        "\n",
        "<br>\n",
        "\n",
        "### Valuation Reference\n",
        "- In DCF (Discounted Cash Flow) models, WACC is used to discount future cash flows  \n",
        "- Lower WACC → higher present value of future cash flows  \n",
        "\n",
        "<br>\n",
        "\n",
        "### Measure of Capital Structure Efficiency\n",
        "- WACC reflects whether the company's financing mix is reasonable  \n",
        "- Example: if the company has more debt with low interest, WACC may be lower than a company with mostly equity\n",
        "\n",
        "---"
      ],
      "metadata": {
        "id": "31Jatn3p81O1"
      }
    },
    {
      "cell_type": "markdown",
      "source": [
        "## 2. Comparison of WACCs"
      ],
      "metadata": {
        "id": "5FPOvEoAUwHN"
      }
    },
    {
      "cell_type": "markdown",
      "source": [
        "WACC is weighted average cost of capital and cost of debt.\n",
        "\n",
        "WACC of Intel = 7.46%\n",
        "\n",
        "WACC of NVIDIA = 10.92%\n",
        "\n",
        "WACC of NVIDIA is higher than that of Intel.\n",
        "\n",
        "---"
      ],
      "metadata": {
        "id": "40Llfrn21xBP"
      }
    },
    {
      "cell_type": "markdown",
      "source": [
        "## 3. Assume that the projected Cash Flows for two companies will be totally the same, which company would I invest in and why?"
      ],
      "metadata": {
        "id": "kUvaKO95UyB1"
      }
    },
    {
      "cell_type": "markdown",
      "source": [
        "From the perspective of WACC:\n",
        "\n",
        "We need to discount Free Cash Flows using WACC\n",
        "\n",
        "**Market Value of the Company = Future Cash Flows / WACC**\n",
        "\n",
        "<br>\n",
        "\n",
        "Companies should decrease WACC because their main aim is to maximize\n",
        "shareholder Value. So, if the projected Cash Flows for two companies will be totally the same, I would invest in **Intel** company since it has a lower WACC, therefore it will be a better investment as an investor.\n",
        "\n",
        "---"
      ],
      "metadata": {
        "id": "nJKlrzNm2CUt"
      }
    },
    {
      "cell_type": "markdown",
      "source": [
        "### 4. In reality the Cash Flows for these two companies will differ. Which company in my opinion will have higher growth rate of Cash flows? Why do I think so? Explain which growth rate projection approach would you choose?"
      ],
      "metadata": {
        "id": "G66doBkAU1He"
      }
    },
    {
      "cell_type": "markdown",
      "source": [
        "## Factors to Estimate Future Cash Flow Growth\n",
        "\n",
        "1. **Historical Growth Trend**  \n",
        "   Look at the company's cash flow growth over the past few years.  \n",
        "   *Example:* If Intel's cash flow grew 5% per year over the last three years, while NVIDIA's grew 15%, NVIDIA may have higher short-term growth potential.\n",
        "\n",
        "2. **Industry & Market Outlook**  \n",
        "   Consider the growth rate of the industry the company operates in.  \n",
        "   Fast-growing industries (e.g., AI, cloud computing, new semiconductor tech) usually lead to faster cash flow growth.  \n",
        "   Mature, slow-growth industries usually have stable but lower cash flow growth.\n",
        "\n",
        "3. **Business Strategy & Competitive Advantage**  \n",
        "   R&D investment, product innovation, and market share expansion can increase future cash flow growth.  \n",
        "   Companies with a strong moat can maintain higher profits and cash flow.\n",
        "\n",
        "4. **Financial Health**  \n",
        "   High debt can limit expansion and restrict cash flow growth.  \n",
        "   Companies with high profit margins and strong free cash flow can reinvest and expand business to drive future cash flow growth.\n",
        "\n",
        "5. **Growth Rate Projection Methods**  \n",
        "   - **Historical CAGR Method:** Calculate compound annual growth rate based on past cash flows; suitable for stable companies.  \n",
        "   - **Analyst Estimates:** Use forecasts from financial websites or research reports for future years.  \n",
        "   - **Multi-stage Growth Model:** Assume faster growth in early years (e.g., first 5 years) and slower growth as the company matures.\n",
        "\n",
        "<br>\n",
        "\n",
        "---\n",
        "\n",
        "<br>\n",
        "\n",
        "##  Types of Cash Flow\n",
        "\n",
        "1. **Operating Cash Flow (OCF)**  \n",
        "   Cash generated from daily business operations, e.g., selling products or providing services minus daily expenses (wages, materials).  \n",
        "   *Example:* Selling computers earns 1,000,000, pay 700,000 in wages and materials → OCF = 300,000.\n",
        "\n",
        "2. **Investing Cash Flow (ICF)**  \n",
        "   Cash spent or received from buying/selling long-term assets, e.g., machinery, property, or investments.  \n",
        "   *Example:* Buying a new machine costs 200,000 → ICF = -200,000.\n",
        "\n",
        "3. **Financing Cash Flow (FCF)**  \n",
        "   Cash from external financing or repayments, e.g., borrowing, repaying debt, issuing stock, or paying dividends.  \n",
        "   *Example:* Borrow 500,000 from a bank → FCF = +500,000; pay 100,000 in dividends → FCF = -100,000.\n",
        "\n",
        "<br>\n",
        "\n",
        "---"
      ],
      "metadata": {
        "id": "27-dRmXcJur6"
      }
    },
    {
      "cell_type": "markdown",
      "source": [
        "<br>\n",
        "\n",
        "Opinion:\n",
        "\n",
        "In my opinion, NVIDIA will have higher growth rate of cash flows.\n",
        "\n",
        "<br>\n",
        "\n",
        "I think so because of the last few years performance. I would choose the \"Analysis of past dynamics\" growth rate projection approach. We can look at historical growth of earnings per share (EPS), revenue, net income, etc.\n",
        "\n",
        "<br>\n",
        "\n",
        "In the year 2022, Intel had negative Free Cash Flow while NVIDIA had positive Free Cash flow. Though both of them reported declines in 2020, the extent of decline in INTEL Cash flow was much worse.\n",
        "\n",
        "\n",
        "<br>\n",
        "\n",
        "References:\n",
        "\n",
        "https://finance.yahoo.com/quote/INTC/cash-flow?p=INTC\n",
        "\n",
        "https://finance.yahoo.com/quote/NVDA/cash-flow?p=NVDA\n"
      ],
      "metadata": {
        "id": "TEMvn5B82xps"
      }
    }
  ]
}